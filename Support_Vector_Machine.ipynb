{
  "nbformat": 4,
  "nbformat_minor": 0,
  "metadata": {
    "colab": {
      "provenance": [],
      "gpuType": "V28"
    },
    "kernelspec": {
      "name": "python3",
      "display_name": "Python 3"
    },
    "language_info": {
      "name": "python"
    },
    "accelerator": "TPU"
  },
  "cells": [
    {
      "cell_type": "code",
      "source": [
        "import pandas as pd\n",
        "import numpy as np\n",
        "from sklearn.model_selection import train_test_split, GridSearchCV\n",
        "from sklearn.svm import SVC\n",
        "from sklearn.metrics import classification_report\n",
        "import joblib\n",
        "from google.colab import drive\n",
        "\n",
        "# Step 1: Generate Realistic Synthetic Data\n",
        "num_samples = 5000  # Reduced number of samples\n",
        "\n",
        "np.random.seed(42)\n",
        "\n",
        "def generate_realistic_mean_heart_rate():\n",
        "    return np.random.normal(loc=75, scale=5, size=num_samples)\n",
        "\n",
        "def generate_realistic_std_heart_rate():\n",
        "    return np.random.normal(loc=5, scale=2, size=num_samples)\n",
        "\n",
        "def generate_realistic_pnn50():\n",
        "    return np.random.uniform(0, 0.3, size=num_samples)\n",
        "\n",
        "def generate_target():\n",
        "    return np.random.choice([0, 1], size=num_samples, p=[0.6, 0.4])\n",
        "\n",
        "mean_heart_rate = generate_realistic_mean_heart_rate()\n",
        "std_heart_rate = generate_realistic_std_heart_rate()\n",
        "pnn50 = generate_realistic_pnn50()\n",
        "target = generate_target()\n",
        "\n",
        "data = pd.DataFrame({\n",
        "    'mean_heart_rate': mean_heart_rate,\n",
        "    'std_heart_rate': std_heart_rate,\n",
        "    'pnn50': pnn50,\n",
        "    'target': target\n",
        "})\n",
        "\n",
        "# Save synthetic data to CSV (optional)\n",
        "data.to_csv('synthetic_svm_data.csv', index=False)\n",
        "\n",
        "# Step 2: Authenticate and Mount Google Drive\n",
        "drive.mount('/content/drive')\n",
        "\n",
        "# Step 3: Preprocess Data\n",
        "X = data.drop('target', axis=1)\n",
        "y = data['target']\n",
        "\n",
        "# Split data\n",
        "X_train, X_test, y_train, y_test = train_test_split(X, y, test_size=0.2, random_state=42)\n",
        "\n",
        "# Step 4: Train the Model using GridSearchCV\n",
        "param_grid = {\n",
        "    'C': [1, 10],\n",
        "    'gamma': ['scale', 'auto'],\n",
        "    'class_weight': [{0:1, 1:2}]\n",
        "}\n",
        "\n",
        "# Use a smaller subset of the data for grid search\n",
        "X_train_subset, _, y_train_subset, _ = train_test_split(X_train, y_train, train_size=0.3, random_state=42)\n",
        "\n",
        "grid_search = GridSearchCV(SVC(kernel='rbf', probability=True), param_grid, cv=3)\n",
        "grid_search.fit(X_train_subset, y_train_subset)\n",
        "\n",
        "model = grid_search.best_estimator_\n",
        "\n",
        "# Evaluate model\n",
        "y_pred = model.predict(X_test)\n",
        "y_pred_proba = model.predict_proba(X_test)[:, 1]\n",
        "y_pred_adjusted = (y_pred_proba > 0.3).astype(int)  # Lowered threshold for irregular rhythm classification\n",
        "\n",
        "report = classification_report(y_test, y_pred_adjusted)\n",
        "print(\"Classification Report:\")\n",
        "print(report)\n",
        "\n",
        "print(\"Best parameters found: \", grid_search.best_params_)\n",
        "\n",
        "# Step 5: Save the Model to Google Drive\n",
        "model_filename = '/content/drive/MyDrive/svm_model.pkl'\n",
        "joblib.dump(model, model_filename)\n",
        "print(f\"Model saved to {model_filename}\")"
      ],
      "metadata": {
        "colab": {
          "base_uri": "https://localhost:8080/"
        },
        "id": "6yz7ZuVVAgUX",
        "outputId": "59f7dc27-dc1e-42ee-cb77-bf4c60d04927"
      },
      "execution_count": null,
      "outputs": [
        {
          "output_type": "stream",
          "name": "stdout",
          "text": [
            "Mounted at /content/drive\n",
            "Classification Report:\n",
            "              precision    recall  f1-score   support\n",
            "\n",
            "           0       0.00      0.00      0.00       591\n",
            "           1       0.41      1.00      0.58       409\n",
            "\n",
            "    accuracy                           0.41      1000\n",
            "   macro avg       0.20      0.50      0.29      1000\n",
            "weighted avg       0.17      0.41      0.24      1000\n",
            "\n",
            "Best parameters found:  {'C': 10, 'class_weight': {0: 1, 1: 2}, 'gamma': 'auto'}\n",
            "Model saved to /content/drive/MyDrive/svm_model.pkl\n"
          ]
        },
        {
          "output_type": "stream",
          "name": "stderr",
          "text": [
            "/usr/local/lib/python3.11/dist-packages/sklearn/metrics/_classification.py:1565: UndefinedMetricWarning: Precision is ill-defined and being set to 0.0 in labels with no predicted samples. Use `zero_division` parameter to control this behavior.\n",
            "  _warn_prf(average, modifier, f\"{metric.capitalize()} is\", len(result))\n",
            "/usr/local/lib/python3.11/dist-packages/sklearn/metrics/_classification.py:1565: UndefinedMetricWarning: Precision is ill-defined and being set to 0.0 in labels with no predicted samples. Use `zero_division` parameter to control this behavior.\n",
            "  _warn_prf(average, modifier, f\"{metric.capitalize()} is\", len(result))\n",
            "/usr/local/lib/python3.11/dist-packages/sklearn/metrics/_classification.py:1565: UndefinedMetricWarning: Precision is ill-defined and being set to 0.0 in labels with no predicted samples. Use `zero_division` parameter to control this behavior.\n",
            "  _warn_prf(average, modifier, f\"{metric.capitalize()} is\", len(result))\n"
          ]
        }
      ]
    },
    {
      "cell_type": "code",
      "source": [
        "import pandas as pd\n",
        "import numpy as np\n",
        "import joblib\n",
        "from google.colab import drive\n",
        "\n",
        "# Mount Google Drive\n",
        "drive.mount('/content/drive')\n",
        "\n",
        "# Load the saved model\n",
        "model_filename = '/content/drive/MyDrive/project models/svm_model.pkl'\n",
        "loaded_model = joblib.load(model_filename)\n",
        "print(f\"Model loaded from {model_filename}\")\n",
        "\n",
        "# Generate new data for inference (you can replace this with real data)\n",
        "num_samples = 5\n",
        "\n",
        "def generate_inference_data():\n",
        "    return pd.DataFrame({\n",
        "        'mean_heart_rate': np.random.normal(loc=75, scale=5, size=num_samples),\n",
        "        'std_heart_rate': np.random.normal(loc=5, scale=2, size=num_samples),\n",
        "        'pnn50': np.random.uniform(0, 0.3, size=num_samples)\n",
        "    })\n",
        "\n",
        "new_data = generate_inference_data()\n",
        "\n",
        "# Make predictions\n",
        "predictions = loaded_model.predict(new_data)\n",
        "probabilities = loaded_model.decision_function(new_data)\n",
        "\n",
        "# Add predictions to the DataFrame\n",
        "new_data['predicted_rhythm'] = predictions\n",
        "new_data['decision_function'] = probabilities\n",
        "\n",
        "# Print results\n",
        "print(\"\\nInference Results:\")\n",
        "print(new_data)\n",
        "print(\"\\nPredicted Rhythm: 0 = Normal, 1 = Irregular\")\n",
        "print(\"Decision Function: Higher values indicate stronger confidence in irregular rhythm\")"
      ],
      "metadata": {
        "colab": {
          "base_uri": "https://localhost:8080/"
        },
        "id": "bks8SnfM5c1Z",
        "outputId": "47d48466-8493-45ce-9c75-9abfdd9afab7"
      },
      "execution_count": null,
      "outputs": [
        {
          "output_type": "stream",
          "name": "stdout",
          "text": [
            "Drive already mounted at /content/drive; to attempt to forcibly remount, call drive.mount(\"/content/drive\", force_remount=True).\n",
            "Model loaded from /content/drive/MyDrive/project models/svm_model.pkl\n",
            "\n",
            "Inference Results:\n",
            "   mean_heart_rate  std_heart_rate     pnn50  predicted_rhythm  \\\n",
            "0        82.348250        1.227817  0.103635                 0   \n",
            "1        77.209505        1.941988  0.130389                 1   \n",
            "2        79.437002        3.201172  0.207511                 1   \n",
            "3        68.914868        5.851194  0.243324                 1   \n",
            "4        79.768035        6.193485  0.205302                 1   \n",
            "\n",
            "   decision_function  \n",
            "0          -1.251951  \n",
            "1           0.071792  \n",
            "2           0.914424  \n",
            "3           0.359869  \n",
            "4           1.216827  \n",
            "\n",
            "Predicted Rhythm: 0 = Normal, 1 = Irregular\n",
            "Decision Function: Higher values indicate stronger confidence in irregular rhythm\n"
          ]
        }
      ]
    }
  ]
}